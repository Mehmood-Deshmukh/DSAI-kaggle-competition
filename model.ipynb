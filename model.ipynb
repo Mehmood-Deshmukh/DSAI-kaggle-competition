{
 "cells": [
  {
   "cell_type": "markdown",
   "metadata": {},
   "source": [
    "### DSAI kaggle competition - Decoding Gaming Trends\n",
    "\n",
    "Explore a comprehensive dataset covering the latest gaming industry trends, including game sales, platform popularity, player behavior to predict the revenue.\n",
    "\n",
    "[Link to the competition](https://www.kaggle.com/competitions/decoding-gaming-trends)"
   ]
  },
  {
   "cell_type": "markdown",
   "metadata": {},
   "source": [
    "### DAY 1\n",
    "\n",
    "**Today's goals:**\n",
    "- Basic understanding of the dataset\n",
    "- Data cleaning\n",
    "- Data preprocessing (maybe! if i get time)\n"
   ]
  },
  {
   "cell_type": "markdown",
   "metadata": {},
   "source": [
    "### Let's get familiar with the dataset"
   ]
  },
  {
   "cell_type": "markdown",
   "metadata": {},
   "source": [
    "#### Importing the necessary libraries\n",
    "\n",
    "we will start by importing the necessary libraries and loading the dataset\n",
    "\n",
    "- **pandas** - for data manipulation and analysis\n",
    "- **numpy** - for numerical computation\n",
    "- **matplotlib, seaborn** - for data visualization"
   ]
  },
  {
   "cell_type": "code",
   "execution_count": 1,
   "metadata": {},
   "outputs": [],
   "source": [
    "import pandas as pd\n",
    "import numpy as np\n",
    "import matplotlib.pyplot as plt\n",
    "import seaborn as sns"
   ]
  },
  {
   "cell_type": "markdown",
   "metadata": {},
   "source": [
    "### Loading the dataset\n",
    "\n",
    "Let's load the dataset from the csv files."
   ]
  },
  {
   "cell_type": "code",
   "execution_count": 57,
   "metadata": {},
   "outputs": [],
   "source": [
    "dataframe = pd.read_csv('train.csv')"
   ]
  },
  {
   "cell_type": "code",
   "execution_count": 3,
   "metadata": {},
   "outputs": [
    {
     "name": "stdout",
     "output_type": "stream",
     "text": [
      "<class 'pandas.core.frame.DataFrame'>\n",
      "RangeIndex: 900 entries, 0 to 899\n",
      "Data columns (total 11 columns):\n",
      " #   Column                   Non-Null Count  Dtype  \n",
      "---  ------                   --------------  -----  \n",
      " 0   Game Title               900 non-null    object \n",
      " 1   Genre                    900 non-null    object \n",
      " 2   Platform                 900 non-null    object \n",
      " 3   Release Year             900 non-null    int64  \n",
      " 4   Developer                900 non-null    object \n",
      " 5   Revenue (Millions $)     900 non-null    float64\n",
      " 6   Players (Millions)       900 non-null    float64\n",
      " 7   Peak Concurrent Players  900 non-null    float64\n",
      " 8   Metacritic Score         900 non-null    int64  \n",
      " 9   Esports Popularity       900 non-null    object \n",
      " 10  Trending Status          900 non-null    object \n",
      "dtypes: float64(3), int64(2), object(6)\n",
      "memory usage: 77.5+ KB\n"
     ]
    }
   ],
   "source": [
    "dataframe.info()"
   ]
  },
  {
   "cell_type": "markdown",
   "metadata": {},
   "source": [
    "### We can see that the given dataset contains:\n",
    "- 900 rows and 11 columns\n",
    "- No null values in any of the columns\n",
    "- We have to predict the **Revenue (Millions $)** column\n"
   ]
  },
  {
   "cell_type": "markdown",
   "metadata": {},
   "source": [
    "### Lets check for the duplicate values in the dataset"
   ]
  },
  {
   "cell_type": "code",
   "execution_count": 7,
   "metadata": {},
   "outputs": [
    {
     "data": {
      "text/plain": [
       "np.int64(0)"
      ]
     },
     "execution_count": 7,
     "metadata": {},
     "output_type": "execute_result"
    }
   ],
   "source": [
    "dataframe.duplicated().sum()"
   ]
  },
  {
   "cell_type": "markdown",
   "metadata": {},
   "source": [
    "there are no duplicate values in the dataset!\n",
    "\n",
    "We've a very clean dataset to work with. Let's move on to the next step and analyze the data further."
   ]
  },
  {
   "cell_type": "code",
   "execution_count": 9,
   "metadata": {},
   "outputs": [
    {
     "data": {
      "text/html": [
       "<div>\n",
       "<style scoped>\n",
       "    .dataframe tbody tr th:only-of-type {\n",
       "        vertical-align: middle;\n",
       "    }\n",
       "\n",
       "    .dataframe tbody tr th {\n",
       "        vertical-align: top;\n",
       "    }\n",
       "\n",
       "    .dataframe thead th {\n",
       "        text-align: right;\n",
       "    }\n",
       "</style>\n",
       "<table border=\"1\" class=\"dataframe\">\n",
       "  <thead>\n",
       "    <tr style=\"text-align: right;\">\n",
       "      <th></th>\n",
       "      <th>Game Title</th>\n",
       "      <th>Genre</th>\n",
       "      <th>Platform</th>\n",
       "      <th>Release Year</th>\n",
       "      <th>Developer</th>\n",
       "      <th>Revenue (Millions $)</th>\n",
       "      <th>Players (Millions)</th>\n",
       "      <th>Peak Concurrent Players</th>\n",
       "      <th>Metacritic Score</th>\n",
       "      <th>Esports Popularity</th>\n",
       "      <th>Trending Status</th>\n",
       "    </tr>\n",
       "  </thead>\n",
       "  <tbody>\n",
       "    <tr>\n",
       "      <th>0</th>\n",
       "      <td>Battle Warriors 3</td>\n",
       "      <td>RPG</td>\n",
       "      <td>Xbox</td>\n",
       "      <td>2000</td>\n",
       "      <td>Sony</td>\n",
       "      <td>3928.96</td>\n",
       "      <td>33.84</td>\n",
       "      <td>12.00</td>\n",
       "      <td>96</td>\n",
       "      <td>No</td>\n",
       "      <td>Declining</td>\n",
       "    </tr>\n",
       "    <tr>\n",
       "      <th>1</th>\n",
       "      <td>Pixel Odyssey 5</td>\n",
       "      <td>Adventure</td>\n",
       "      <td>Cross-Platform</td>\n",
       "      <td>2013</td>\n",
       "      <td>Ubisoft</td>\n",
       "      <td>1304.97</td>\n",
       "      <td>162.57</td>\n",
       "      <td>37.76</td>\n",
       "      <td>91</td>\n",
       "      <td>Yes</td>\n",
       "      <td>Stable</td>\n",
       "    </tr>\n",
       "    <tr>\n",
       "      <th>2</th>\n",
       "      <td>Fantasy Rivals 2</td>\n",
       "      <td>Shooter</td>\n",
       "      <td>PC</td>\n",
       "      <td>2007</td>\n",
       "      <td>Sony</td>\n",
       "      <td>2690.57</td>\n",
       "      <td>164.85</td>\n",
       "      <td>70.99</td>\n",
       "      <td>85</td>\n",
       "      <td>No</td>\n",
       "      <td>Rising</td>\n",
       "    </tr>\n",
       "    <tr>\n",
       "      <th>3</th>\n",
       "      <td>Pixel Odyssey 1</td>\n",
       "      <td>Action</td>\n",
       "      <td>PC</td>\n",
       "      <td>2023</td>\n",
       "      <td>Microsoft</td>\n",
       "      <td>653.18</td>\n",
       "      <td>118.68</td>\n",
       "      <td>41.95</td>\n",
       "      <td>88</td>\n",
       "      <td>Yes</td>\n",
       "      <td>Stable</td>\n",
       "    </tr>\n",
       "    <tr>\n",
       "      <th>4</th>\n",
       "      <td>Shadow Realms 2</td>\n",
       "      <td>Action</td>\n",
       "      <td>Nintendo Switch</td>\n",
       "      <td>2016</td>\n",
       "      <td>Ubisoft</td>\n",
       "      <td>3157.66</td>\n",
       "      <td>64.07</td>\n",
       "      <td>17.56</td>\n",
       "      <td>84</td>\n",
       "      <td>Yes</td>\n",
       "      <td>Stable</td>\n",
       "    </tr>\n",
       "  </tbody>\n",
       "</table>\n",
       "</div>"
      ],
      "text/plain": [
       "          Game Title      Genre         Platform  Release Year  Developer  \\\n",
       "0  Battle Warriors 3        RPG             Xbox          2000       Sony   \n",
       "1    Pixel Odyssey 5  Adventure   Cross-Platform          2013    Ubisoft   \n",
       "2   Fantasy Rivals 2    Shooter               PC          2007       Sony   \n",
       "3    Pixel Odyssey 1     Action               PC          2023  Microsoft   \n",
       "4    Shadow Realms 2     Action  Nintendo Switch          2016    Ubisoft   \n",
       "\n",
       "   Revenue (Millions $)  Players (Millions)  Peak Concurrent Players  \\\n",
       "0               3928.96               33.84                    12.00   \n",
       "1               1304.97              162.57                    37.76   \n",
       "2               2690.57              164.85                    70.99   \n",
       "3                653.18              118.68                    41.95   \n",
       "4               3157.66               64.07                    17.56   \n",
       "\n",
       "   Metacritic Score Esports Popularity Trending Status  \n",
       "0                96                 No       Declining  \n",
       "1                91                Yes          Stable  \n",
       "2                85                 No          Rising  \n",
       "3                88                Yes          Stable  \n",
       "4                84                Yes          Stable  "
      ]
     },
     "execution_count": 9,
     "metadata": {},
     "output_type": "execute_result"
    }
   ],
   "source": [
    "dataframe.head()"
   ]
  },
  {
   "cell_type": "markdown",
   "metadata": {},
   "source": [
    "### The dataset contains the following columns:\n",
    "\n",
    "- **Game Title** - Name of the game\n",
    "- **Genre** - Genre of the game\n",
    "- **Platform** - Platform on which the game is available\n",
    "- **Release Year** - Year in which the game was released\n",
    "- **Developer** - Name of the developer\n",
    "- **Revenue (Millions $)** - Revenue generated by the game in millions of dollars\n",
    "- **Players (Millions)** - Number of players in millions\n",
    "- **Peak Concurrent Players** - Peak number of players playing the game at the same time\n",
    "- **Metacritic Score** - Metacritic score of the game\n",
    "- **Esports Popularity** - Whether the game is popular in esports or not\n",
    "- **Trending Status** - Trending status of the game\n",
    "\n",
    "### Let's explore each of these columns further to understand the data better.\n"
   ]
  },
  {
   "cell_type": "markdown",
   "metadata": {},
   "source": [
    "### Exploring genre "
   ]
  },
  {
   "cell_type": "code",
   "execution_count": 13,
   "metadata": {},
   "outputs": [
    {
     "data": {
      "text/plain": [
       "<Axes: xlabel='Genre'>"
      ]
     },
     "execution_count": 13,
     "metadata": {},
     "output_type": "execute_result"
    },
    {
     "data": {
      "image/png": "[encoded data removed]",
      "text/plain": [
       "<Figure size 640x480 with 1 Axes>"
      ]
     },
     "metadata": {},
     "output_type": "display_data"
    }
   ],
   "source": [
    "dataframe['Genre'].value_counts().plot(kind='bar')"
   ]
  },
  {
   "cell_type": "code",
   "execution_count": 28,
   "metadata": {},
   "outputs": [
    {
     "data": {
      "text/plain": [
       "Genre\n",
       "Fighting      260472.90\n",
       "Action        253080.10\n",
       "Strategy      248335.76\n",
       "Sports        236733.34\n",
       "Shooter       224189.80\n",
       "Horror        217014.78\n",
       "Simulation    214066.34\n",
       "Racing        211881.64\n",
       "RPG           186803.21\n",
       "Adventure     171796.13\n",
       "Name: Revenue (Millions $), dtype: float64"
      ]
     },
     "execution_count": 28,
     "metadata": {},
     "output_type": "execute_result"
    }
   ],
   "source": [
    "dataframe.groupby('Genre')['Revenue (Millions $)'].sum().sort_values(ascending=False)"
   ]
  },
  {
   "cell_type": "markdown",
   "metadata": {},
   "source": [
    "### Observations:\n",
    "- The dataset contains 10 unique genres\n",
    "- The most popular genre is **Action** with 108 games\n",
    "- The least popular genre is **RPG** with 70 games\n",
    "- The genre **Fighting** has generated the highest revenue of 260472.90 million dollars\n",
    "- The genre **Adventure** has generated the lowest revenue of 171796.13 million dollars\n",
    "\n",
    "This observation gives us a good idea about the distribution of games across different genres and their revenue generation.\n",
    "\n"
   ]
  },
  {
   "cell_type": "markdown",
   "metadata": {},
   "source": [
    "### Exploring platform"
   ]
  },
  {
   "cell_type": "code",
   "execution_count": 29,
   "metadata": {},
   "outputs": [
    {
     "data": {
      "text/plain": [
       "Platform\n",
       "PlayStation        160\n",
       "PC                 160\n",
       "Cross-Platform     150\n",
       "Xbox               150\n",
       "Nintendo Switch    142\n",
       "Mobile             138\n",
       "Name: count, dtype: int64"
      ]
     },
     "execution_count": 29,
     "metadata": {},
     "output_type": "execute_result"
    }
   ],
   "source": [
    "dataframe[\"Platform\"].value_counts()"
   ]
  },
  {
   "cell_type": "code",
   "execution_count": 30,
   "metadata": {},
   "outputs": [
    {
     "data": {
      "text/plain": [
       "<Axes: xlabel='Platform'>"
      ]
     },
     "execution_count": 30,
     "metadata": {},
     "output_type": "execute_result"
    },
    {
     "data": {
      "image/png": "[encoded data removed]",
      "text/plain": [
       "<Figure size 640x480 with 1 Axes>"
      ]
     },
     "metadata": {},
     "output_type": "display_data"
    }
   ],
   "source": [
    "dataframe[\"Platform\"].value_counts().plot(kind='bar')"
   ]
  },
  {
   "cell_type": "code",
   "execution_count": 31,
   "metadata": {},
   "outputs": [
    {
     "data": {
      "text/plain": [
       "Platform\n",
       "PC                 389032.06\n",
       "PlayStation        376249.60\n",
       "Cross-Platform     373888.97\n",
       "Xbox               373624.48\n",
       "Nintendo Switch    362336.32\n",
       "Mobile             349242.57\n",
       "Name: Revenue (Millions $), dtype: float64"
      ]
     },
     "execution_count": 31,
     "metadata": {},
     "output_type": "execute_result"
    }
   ],
   "source": [
    "dataframe.groupby('Platform')['Revenue (Millions $)'].sum().sort_values(ascending=False)"
   ]
  },
  {
   "cell_type": "markdown",
   "metadata": {},
   "source": [
    "\n",
    "### Observations:\n",
    "- The dataset contains 6 unique platforms\n",
    "- The most popular platforms are **PlayStation** and **PC** with 160 games each\n",
    "- The least popular platform is **Mobile** with 138 games\n",
    "- The platform **PC** has generated the highest revenue of 389032.06 million dollars\n",
    "- The platform **Mobile** has generated the lowest revenue of 349242.57 million dollars\n",
    "\n",
    "We can see that the revenue generated by different platforms varies significantly. This information will be useful for our analysis."
   ]
  },
  {
   "cell_type": "markdown",
   "metadata": {},
   "source": [
    "### Exploring Release Year"
   ]
  },
  {
   "cell_type": "code",
   "execution_count": 34,
   "metadata": {},
   "outputs": [
    {
     "data": {
      "text/plain": [
       "Release Year\n",
       "2006    47\n",
       "2018    45\n",
       "2009    41\n",
       "2010    41\n",
       "2020    40\n",
       "2019    39\n",
       "2017    39\n",
       "2001    39\n",
       "2005    38\n",
       "2014    37\n",
       "2023    37\n",
       "2003    37\n",
       "2022    36\n",
       "2013    36\n",
       "2016    36\n",
       "2015    35\n",
       "2011    35\n",
       "2004    34\n",
       "2012    34\n",
       "2008    34\n",
       "2007    30\n",
       "2021    30\n",
       "2002    28\n",
       "2000    26\n",
       "2024    26\n",
       "Name: count, dtype: int64"
      ]
     },
     "execution_count": 34,
     "metadata": {},
     "output_type": "execute_result"
    }
   ],
   "source": [
    "dataframe[\"Release Year\"].value_counts()"
   ]
  },
  {
   "cell_type": "code",
   "execution_count": 37,
   "metadata": {},
   "outputs": [
    {
     "data": {
      "text/plain": [
       "<Axes: xlabel='Release Year'>"
      ]
     },
     "execution_count": 37,
     "metadata": {},
     "output_type": "execute_result"
    },
    {
     "data": {
      "image/png": "[encoded data removed]",
      "text/plain": [
       "<Figure size 1000x500 with 1 Axes>"
      ]
     },
     "metadata": {},
     "output_type": "display_data"
    }
   ],
   "source": [
    "plt.figure(figsize=(10,5))\n",
    "dataframe[\"Release Year\"].value_counts().plot(kind='bar')"
   ]
  },
  {
   "cell_type": "code",
   "execution_count": 35,
   "metadata": {},
   "outputs": [
    {
     "data": {
      "text/plain": [
       "Release Year\n",
       "2018    116716.54\n",
       "2009    108316.83\n",
       "2001    105374.66\n",
       "2020    104614.21\n",
       "2017    104320.11\n",
       "2019    101027.46\n",
       "2013     99558.32\n",
       "2006     97441.38\n",
       "2016     95554.38\n",
       "2010     95124.99\n",
       "2005     89049.02\n",
       "2004     88678.42\n",
       "2023     87779.77\n",
       "2003     87529.24\n",
       "2008     85625.42\n",
       "2014     83346.69\n",
       "2015     81978.03\n",
       "2021     81203.73\n",
       "2007     80491.65\n",
       "2011     79907.90\n",
       "2022     79615.52\n",
       "2012     75998.05\n",
       "2000     73284.20\n",
       "2024     66552.86\n",
       "2002     55284.62\n",
       "Name: Revenue (Millions $), dtype: float64"
      ]
     },
     "execution_count": 35,
     "metadata": {},
     "output_type": "execute_result"
    }
   ],
   "source": [
    "dataframe.groupby('Release Year')['Revenue (Millions $)'].sum().sort_values(ascending=False)"
   ]
  },
  {
   "cell_type": "markdown",
   "metadata": {},
   "source": [
    "### Observations:\n",
    "- The dataset contains games released from the year 2000 to 2024\n",
    "- The year **2006** has the highest number of games with 47 games\n",
    "- The years **2000** and **2024** have the lowest number of games with 26 games each\n",
    "- The year **2018** has the highest revenue of 116716.54 million dollars\n",
    "- The year **2002** has the lowest revenue of 55284.62 million dollars\n",
    "\n",
    "This information gives us an idea about the distribution of games across different years and their revenue generation. We can see that the revenue generated by games varies significantly across different years. \n"
   ]
  },
  {
   "cell_type": "markdown",
   "metadata": {},
   "source": [
    "### Exploring Developer"
   ]
  },
  {
   "cell_type": "code",
   "execution_count": 38,
   "metadata": {},
   "outputs": [
    {
     "data": {
      "text/plain": [
       "Developer\n",
       "Sony            105\n",
       "Activision      100\n",
       "Rockstar         98\n",
       "Ubisoft          95\n",
       "Microsoft        95\n",
       "Nintendo         84\n",
       "Square Enix      82\n",
       "Capcom           82\n",
       "EA               81\n",
       "Bandai Namco     78\n",
       "Name: count, dtype: int64"
      ]
     },
     "execution_count": 38,
     "metadata": {},
     "output_type": "execute_result"
    }
   ],
   "source": [
    "dataframe[\"Developer\"].value_counts()"
   ]
  },
  {
   "cell_type": "code",
   "execution_count": 39,
   "metadata": {},
   "outputs": [
    {
     "data": {
      "text/plain": [
       "<Axes: xlabel='Developer'>"
      ]
     },
     "execution_count": 39,
     "metadata": {},
     "output_type": "execute_result"
    },
    {
     "data": {
      "image/png": "[encoded data removed]",
      "text/plain": [
       "<Figure size 640x480 with 1 Axes>"
      ]
     },
     "metadata": {},
     "output_type": "display_data"
    }
   ],
   "source": [
    "dataframe[\"Developer\"].value_counts().plot(kind='bar')"
   ]
  },
  {
   "cell_type": "code",
   "execution_count": 40,
   "metadata": {},
   "outputs": [
    {
     "data": {
      "text/plain": [
       "Developer\n",
       "Sony            279806.35\n",
       "Activision      256851.45\n",
       "Rockstar        231348.18\n",
       "Microsoft       225213.40\n",
       "Capcom          223116.66\n",
       "Nintendo        219411.23\n",
       "Ubisoft         211665.26\n",
       "EA              198245.79\n",
       "Square Enix     189741.66\n",
       "Bandai Namco    188974.02\n",
       "Name: Revenue (Millions $), dtype: float64"
      ]
     },
     "execution_count": 40,
     "metadata": {},
     "output_type": "execute_result"
    }
   ],
   "source": [
    "dataframe.groupby('Developer')['Revenue (Millions $)'].sum().sort_values(ascending=False)"
   ]
  },
  {
   "cell_type": "markdown",
   "metadata": {},
   "source": [
    "<!-- Developer\n",
    "Sony            105\n",
    "Activision      100\n",
    "Rockstar         98\n",
    "Ubisoft          95\n",
    "Microsoft        95\n",
    "Nintendo         84\n",
    "Square Enix      82\n",
    "Capcom           82\n",
    "EA               81\n",
    "Bandai Namco     78\n",
    "Name: count, dtype: int64 -->\n",
    "\n",
    "<!-- Developer\n",
    "Sony            279806.35\n",
    "Activision      256851.45\n",
    "Rockstar        231348.18\n",
    "Microsoft       225213.40\n",
    "Capcom          223116.66\n",
    "Nintendo        219411.23\n",
    "Ubisoft         211665.26\n",
    "EA              198245.79\n",
    "Square Enix     189741.66\n",
    "Bandai Namco    188974.02\n",
    "Name: Revenue (Millions $), dtype: float64 -->\n",
    "\n",
    "### Observations:\n",
    "- The dataset contains games developed by 10 unique developers\n",
    "- **Sony** has the highest number of games with 105 games\n",
    "- **Bandai Namco** has the lowest number of games with 78 games\n",
    "- **Sony** has generated the highest revenue of 279806.35 million dollars\n",
    "- **Bandai Namco** has generated the lowest revenue of 188974.02 million dollars\n",
    "\n",
    "The games developed by popular developers like **Sony**, **Activision**, **Rockstar** are more likely to generate higher revenue. This information will be useful for our analysis.\n"
   ]
  },
  {
   "cell_type": "markdown",
   "metadata": {},
   "source": [
    "### Exploring Players"
   ]
  },
  {
   "cell_type": "code",
   "execution_count": 46,
   "metadata": {},
   "outputs": [
    {
     "data": {
      "text/plain": [
       "count    900.000000\n",
       "mean     103.669122\n",
       "std       58.982066\n",
       "min        0.530000\n",
       "25%       52.375000\n",
       "50%      107.865000\n",
       "75%      155.900000\n",
       "max      199.980000\n",
       "Name: Players (Millions), dtype: float64"
      ]
     },
     "execution_count": 46,
     "metadata": {},
     "output_type": "execute_result"
    }
   ],
   "source": [
    "dataframe[\"Players (Millions)\"].describe()"
   ]
  },
  {
   "cell_type": "markdown",
   "metadata": {},
   "source": [
    "### Observations:\n",
    "\n",
    "- The dataset contains games with players ranging from 0.53 million to 199.98 million\n",
    "- The average number of players is 103.67 million\n",
    "- The median number of players is 107.87 million\n",
    "- The minimum number of players is 0.53 million\n",
    "- The maximum number of players is 199.98 million\n",
    "\n",
    "This is a very interesting observation as it shows that there are games with very few players as well as games with a large number of players. This could be an important factor in predicting the revenue generated by the game."
   ]
  },
  {
   "cell_type": "markdown",
   "metadata": {},
   "source": [
    "### Exploring Peak Concurrent Players"
   ]
  },
  {
   "cell_type": "code",
   "execution_count": 47,
   "metadata": {},
   "outputs": [
    {
     "data": {
      "text/plain": [
       "count    900.000000\n",
       "mean      31.629344\n",
       "std       23.170966\n",
       "min        0.110000\n",
       "25%       12.897500\n",
       "50%       26.215000\n",
       "75%       46.302500\n",
       "max       96.620000\n",
       "Name: Peak Concurrent Players, dtype: float64"
      ]
     },
     "execution_count": 47,
     "metadata": {},
     "output_type": "execute_result"
    }
   ],
   "source": [
    "dataframe[\"Peak Concurrent Players\"].describe()"
   ]
  },
  {
   "cell_type": "markdown",
   "metadata": {},
   "source": [
    "### Observations:\n",
    "\n",
    "- The dataset contains games with peak concurrent players ranging from 0.11 to 96.62\n",
    "- The average peak concurrent players is 31.63\n",
    "- The median peak concurrent players is 26.22\n",
    "- The minimum peak concurrent players is 0.11\n",
    "- The maximum peak concurrent players is 96.62\n",
    "\n",
    "We can see that the peak concurrent players are varying significantly across different games. Games with a higher number of peak concurrent players are more likely to generate higher revenue."
   ]
  },
  {
   "cell_type": "markdown",
   "metadata": {},
   "source": [
    "### Exploring Metacritic Score"
   ]
  },
  {
   "cell_type": "code",
   "execution_count": 48,
   "metadata": {},
   "outputs": [
    {
     "data": {
      "text/plain": [
       "count    900.000000\n",
       "mean      75.213333\n",
       "std       14.701291\n",
       "min       50.000000\n",
       "25%       62.000000\n",
       "50%       76.500000\n",
       "75%       88.000000\n",
       "max      100.000000\n",
       "Name: Metacritic Score, dtype: float64"
      ]
     },
     "execution_count": 48,
     "metadata": {},
     "output_type": "execute_result"
    }
   ],
   "source": [
    "dataframe[\"Metacritic Score\"].describe()"
   ]
  },
  {
   "cell_type": "markdown",
   "metadata": {},
   "source": [
    "### Observations:\n",
    "\n",
    "- The dataset contains games with Metacritic scores ranging from 50 to 100\n",
    "- The average Metacritic score is 75.21\n",
    "- The median Metacritic score is 76.50\n",
    "- The minimum Metacritic score is 50\n",
    "- The maximum Metacritic score is 100\n",
    "\n",
    "Higher Metacritic scores are generally associated with better quality games. Games with higher Metacritic scores are more likely to generate higher revenue."
   ]
  },
  {
   "cell_type": "markdown",
   "metadata": {},
   "source": [
    "### Exploring Esports Popularity"
   ]
  },
  {
   "cell_type": "code",
   "execution_count": 49,
   "metadata": {},
   "outputs": [
    {
     "data": {
      "text/plain": [
       "Esports Popularity\n",
       "Yes    456\n",
       "No     444\n",
       "Name: count, dtype: int64"
      ]
     },
     "execution_count": 49,
     "metadata": {},
     "output_type": "execute_result"
    }
   ],
   "source": [
    "dataframe[\"Esports Popularity\"].value_counts()"
   ]
  },
  {
   "cell_type": "code",
   "execution_count": 50,
   "metadata": {},
   "outputs": [
    {
     "data": {
      "text/plain": [
       "Esports Popularity\n",
       "Yes    1139275.65\n",
       "No     1085098.35\n",
       "Name: Revenue (Millions $), dtype: float64"
      ]
     },
     "execution_count": 50,
     "metadata": {},
     "output_type": "execute_result"
    }
   ],
   "source": [
    "dataframe.groupby('Esports Popularity')['Revenue (Millions $)'].sum().sort_values(ascending=False)"
   ]
  },
  {
   "cell_type": "markdown",
   "metadata": {},
   "source": [
    "### Observations:\n",
    "\n",
    "- The dataset contains games with and without esports popularity\n",
    "- There are 456 games with esports popularity and 444 games without esports popularity\n",
    "- Games with esports popularity have generated a revenue of 1139275.65 million dollars\n",
    "- Games without esports popularity have generated a revenue of 1085098.35 million dollars\n",
    "\n",
    "Games with esports popularity are more likely to generate higher revenue compared to games without esports popularity."
   ]
  },
  {
   "cell_type": "markdown",
   "metadata": {},
   "source": [
    "### Exploring Trending Status"
   ]
  },
  {
   "cell_type": "code",
   "execution_count": 51,
   "metadata": {},
   "outputs": [
    {
     "data": {
      "text/plain": [
       "Trending Status\n",
       "Rising       307\n",
       "Stable       306\n",
       "Declining    287\n",
       "Name: count, dtype: int64"
      ]
     },
     "execution_count": 51,
     "metadata": {},
     "output_type": "execute_result"
    }
   ],
   "source": [
    "dataframe[\"Trending Status\"].value_counts()"
   ]
  },
  {
   "cell_type": "code",
   "execution_count": 52,
   "metadata": {},
   "outputs": [
    {
     "data": {
      "text/plain": [
       "Trending Status\n",
       "Rising       775509.78\n",
       "Stable       758346.20\n",
       "Declining    690518.02\n",
       "Name: Revenue (Millions $), dtype: float64"
      ]
     },
     "execution_count": 52,
     "metadata": {},
     "output_type": "execute_result"
    }
   ],
   "source": [
    "dataframe.groupby('Trending Status')['Revenue (Millions $)'].sum().sort_values(ascending=False)"
   ]
  },
  {
   "cell_type": "markdown",
   "metadata": {},
   "source": [
    "### Observations:\n",
    "\n",
    "- The dataset contains games with different trending statuses - Rising, Stable, Declining\n",
    "- There are 307 games with a rising trend, 306 games with a stable trend, and 287 games with a declining trend\n",
    "- Games with a rising trend have generated a revenue of 775509.78 million dollars\n",
    "- Games with a stable trend have generated a revenue of 758346.20 million dollars\n",
    "- Games with a declining trend have generated a revenue of 690518.02 million dollars\n",
    "\n",
    "Trending status is an important factor in predicting the revenue generated by the game. Games with a rising trend are more likely to generate higher revenue compared to games with a stable or declining trend."
   ]
  },
  {
   "cell_type": "markdown",
   "metadata": {},
   "source": [
    "### Data Preprocessing"
   ]
  },
  {
   "cell_type": "markdown",
   "metadata": {},
   "source": [
    "### First lets rename the columns for better understanding"
   ]
  },
  {
   "cell_type": "code",
   "execution_count": 58,
   "metadata": {},
   "outputs": [],
   "source": [
    "dataframe.rename(columns={'Game Title':'Game_Title', 'Release Year':'Release_Year', 'Revenue (Millions $)':'Revenue_Millions', 'Players (Millions)':'Players_Millions', 'Peak Concurrent Players':'Peak_Concurrent_Players', 'Metacritic Score':'Metacritic_Score', 'Esports Popularity':'Esports_Popularity', 'Trending Status':'Trending_Status'}, inplace=True)"
   ]
  },
  {
   "cell_type": "code",
   "execution_count": 59,
   "metadata": {},
   "outputs": [
    {
     "data": {
      "text/html": [
       "<div>\n",
       "<style scoped>\n",
       "    .dataframe tbody tr th:only-of-type {\n",
       "        vertical-align: middle;\n",
       "    }\n",
       "\n",
       "    .dataframe tbody tr th {\n",
       "        vertical-align: top;\n",
       "    }\n",
       "\n",
       "    .dataframe thead th {\n",
       "        text-align: right;\n",
       "    }\n",
       "</style>\n",
       "<table border=\"1\" class=\"dataframe\">\n",
       "  <thead>\n",
       "    <tr style=\"text-align: right;\">\n",
       "      <th></th>\n",
       "      <th>Game_Title</th>\n",
       "      <th>Genre</th>\n",
       "      <th>Platform</th>\n",
       "      <th>Release_Year</th>\n",
       "      <th>Developer</th>\n",
       "      <th>Revenue_Millions</th>\n",
       "      <th>Players_Millions</th>\n",
       "      <th>Peak_Concurrent_Players</th>\n",
       "      <th>Metacritic_Score</th>\n",
       "      <th>Esports_Popularity</th>\n",
       "      <th>Trending_Status</th>\n",
       "    </tr>\n",
       "  </thead>\n",
       "  <tbody>\n",
       "    <tr>\n",
       "      <th>0</th>\n",
       "      <td>Battle Warriors 3</td>\n",
       "      <td>RPG</td>\n",
       "      <td>Xbox</td>\n",
       "      <td>2000</td>\n",
       "      <td>Sony</td>\n",
       "      <td>3928.96</td>\n",
       "      <td>33.84</td>\n",
       "      <td>12.00</td>\n",
       "      <td>96</td>\n",
       "      <td>No</td>\n",
       "      <td>Declining</td>\n",
       "    </tr>\n",
       "    <tr>\n",
       "      <th>1</th>\n",
       "      <td>Pixel Odyssey 5</td>\n",
       "      <td>Adventure</td>\n",
       "      <td>Cross-Platform</td>\n",
       "      <td>2013</td>\n",
       "      <td>Ubisoft</td>\n",
       "      <td>1304.97</td>\n",
       "      <td>162.57</td>\n",
       "      <td>37.76</td>\n",
       "      <td>91</td>\n",
       "      <td>Yes</td>\n",
       "      <td>Stable</td>\n",
       "    </tr>\n",
       "    <tr>\n",
       "      <th>2</th>\n",
       "      <td>Fantasy Rivals 2</td>\n",
       "      <td>Shooter</td>\n",
       "      <td>PC</td>\n",
       "      <td>2007</td>\n",
       "      <td>Sony</td>\n",
       "      <td>2690.57</td>\n",
       "      <td>164.85</td>\n",
       "      <td>70.99</td>\n",
       "      <td>85</td>\n",
       "      <td>No</td>\n",
       "      <td>Rising</td>\n",
       "    </tr>\n",
       "    <tr>\n",
       "      <th>3</th>\n",
       "      <td>Pixel Odyssey 1</td>\n",
       "      <td>Action</td>\n",
       "      <td>PC</td>\n",
       "      <td>2023</td>\n",
       "      <td>Microsoft</td>\n",
       "      <td>653.18</td>\n",
       "      <td>118.68</td>\n",
       "      <td>41.95</td>\n",
       "      <td>88</td>\n",
       "      <td>Yes</td>\n",
       "      <td>Stable</td>\n",
       "    </tr>\n",
       "    <tr>\n",
       "      <th>4</th>\n",
       "      <td>Shadow Realms 2</td>\n",
       "      <td>Action</td>\n",
       "      <td>Nintendo Switch</td>\n",
       "      <td>2016</td>\n",
       "      <td>Ubisoft</td>\n",
       "      <td>3157.66</td>\n",
       "      <td>64.07</td>\n",
       "      <td>17.56</td>\n",
       "      <td>84</td>\n",
       "      <td>Yes</td>\n",
       "      <td>Stable</td>\n",
       "    </tr>\n",
       "  </tbody>\n",
       "</table>\n",
       "</div>"
      ],
      "text/plain": [
       "          Game_Title      Genre         Platform  Release_Year  Developer  \\\n",
       "0  Battle Warriors 3        RPG             Xbox          2000       Sony   \n",
       "1    Pixel Odyssey 5  Adventure   Cross-Platform          2013    Ubisoft   \n",
       "2   Fantasy Rivals 2    Shooter               PC          2007       Sony   \n",
       "3    Pixel Odyssey 1     Action               PC          2023  Microsoft   \n",
       "4    Shadow Realms 2     Action  Nintendo Switch          2016    Ubisoft   \n",
       "\n",
       "   Revenue_Millions  Players_Millions  Peak_Concurrent_Players  \\\n",
       "0           3928.96             33.84                    12.00   \n",
       "1           1304.97            162.57                    37.76   \n",
       "2           2690.57            164.85                    70.99   \n",
       "3            653.18            118.68                    41.95   \n",
       "4           3157.66             64.07                    17.56   \n",
       "\n",
       "   Metacritic_Score Esports_Popularity Trending_Status  \n",
       "0                96                 No       Declining  \n",
       "1                91                Yes          Stable  \n",
       "2                85                 No          Rising  \n",
       "3                88                Yes          Stable  \n",
       "4                84                Yes          Stable  "
      ]
     },
     "execution_count": 59,
     "metadata": {},
     "output_type": "execute_result"
    }
   ],
   "source": [
    "dataframe.head()"
   ]
  },
  {
   "cell_type": "markdown",
   "metadata": {},
   "source": [
    "### Label Encoding"
   ]
  },
  {
   "cell_type": "code",
   "execution_count": 60,
   "metadata": {},
   "outputs": [
    {
     "data": {
      "text/html": [
       "<div>\n",
       "<style scoped>\n",
       "    .dataframe tbody tr th:only-of-type {\n",
       "        vertical-align: middle;\n",
       "    }\n",
       "\n",
       "    .dataframe tbody tr th {\n",
       "        vertical-align: top;\n",
       "    }\n",
       "\n",
       "    .dataframe thead th {\n",
       "        text-align: right;\n",
       "    }\n",
       "</style>\n",
       "<table border=\"1\" class=\"dataframe\">\n",
       "  <thead>\n",
       "    <tr style=\"text-align: right;\">\n",
       "      <th></th>\n",
       "      <th>Game_Title</th>\n",
       "      <th>Genre</th>\n",
       "      <th>Platform</th>\n",
       "      <th>Release_Year</th>\n",
       "      <th>Developer</th>\n",
       "      <th>Revenue_Millions</th>\n",
       "      <th>Players_Millions</th>\n",
       "      <th>Peak_Concurrent_Players</th>\n",
       "      <th>Metacritic_Score</th>\n",
       "      <th>Esports_Popularity</th>\n",
       "      <th>Trending_Status</th>\n",
       "    </tr>\n",
       "  </thead>\n",
       "  <tbody>\n",
       "    <tr>\n",
       "      <th>0</th>\n",
       "      <td>Battle Warriors 3</td>\n",
       "      <td>4</td>\n",
       "      <td>5</td>\n",
       "      <td>2000</td>\n",
       "      <td>7</td>\n",
       "      <td>3928.96</td>\n",
       "      <td>33.84</td>\n",
       "      <td>12.00</td>\n",
       "      <td>96</td>\n",
       "      <td>0</td>\n",
       "      <td>0</td>\n",
       "    </tr>\n",
       "    <tr>\n",
       "      <th>1</th>\n",
       "      <td>Pixel Odyssey 5</td>\n",
       "      <td>1</td>\n",
       "      <td>0</td>\n",
       "      <td>2013</td>\n",
       "      <td>9</td>\n",
       "      <td>1304.97</td>\n",
       "      <td>162.57</td>\n",
       "      <td>37.76</td>\n",
       "      <td>91</td>\n",
       "      <td>1</td>\n",
       "      <td>2</td>\n",
       "    </tr>\n",
       "    <tr>\n",
       "      <th>2</th>\n",
       "      <td>Fantasy Rivals 2</td>\n",
       "      <td>6</td>\n",
       "      <td>3</td>\n",
       "      <td>2007</td>\n",
       "      <td>7</td>\n",
       "      <td>2690.57</td>\n",
       "      <td>164.85</td>\n",
       "      <td>70.99</td>\n",
       "      <td>85</td>\n",
       "      <td>0</td>\n",
       "      <td>1</td>\n",
       "    </tr>\n",
       "    <tr>\n",
       "      <th>3</th>\n",
       "      <td>Pixel Odyssey 1</td>\n",
       "      <td>0</td>\n",
       "      <td>3</td>\n",
       "      <td>2023</td>\n",
       "      <td>4</td>\n",
       "      <td>653.18</td>\n",
       "      <td>118.68</td>\n",
       "      <td>41.95</td>\n",
       "      <td>88</td>\n",
       "      <td>1</td>\n",
       "      <td>2</td>\n",
       "    </tr>\n",
       "    <tr>\n",
       "      <th>4</th>\n",
       "      <td>Shadow Realms 2</td>\n",
       "      <td>0</td>\n",
       "      <td>2</td>\n",
       "      <td>2016</td>\n",
       "      <td>9</td>\n",
       "      <td>3157.66</td>\n",
       "      <td>64.07</td>\n",
       "      <td>17.56</td>\n",
       "      <td>84</td>\n",
       "      <td>1</td>\n",
       "      <td>2</td>\n",
       "    </tr>\n",
       "  </tbody>\n",
       "</table>\n",
       "</div>"
      ],
      "text/plain": [
       "          Game_Title  Genre  Platform  Release_Year  Developer  \\\n",
       "0  Battle Warriors 3      4         5          2000          7   \n",
       "1    Pixel Odyssey 5      1         0          2013          9   \n",
       "2   Fantasy Rivals 2      6         3          2007          7   \n",
       "3    Pixel Odyssey 1      0         3          2023          4   \n",
       "4    Shadow Realms 2      0         2          2016          9   \n",
       "\n",
       "   Revenue_Millions  Players_Millions  Peak_Concurrent_Players  \\\n",
       "0           3928.96             33.84                    12.00   \n",
       "1           1304.97            162.57                    37.76   \n",
       "2           2690.57            164.85                    70.99   \n",
       "3            653.18            118.68                    41.95   \n",
       "4           3157.66             64.07                    17.56   \n",
       "\n",
       "   Metacritic_Score  Esports_Popularity  Trending_Status  \n",
       "0                96                   0                0  \n",
       "1                91                   1                2  \n",
       "2                85                   0                1  \n",
       "3                88                   1                2  \n",
       "4                84                   1                2  "
      ]
     },
     "execution_count": 60,
     "metadata": {},
     "output_type": "execute_result"
    }
   ],
   "source": [
    "from sklearn.preprocessing import LabelEncoder\n",
    "labelencoders = {}\n",
    "labels = ['Genre', 'Platform', 'Developer', 'Esports_Popularity', 'Trending_Status']\n",
    "for label in labels:\n",
    "    labelencoders[label] = LabelEncoder()\n",
    "    dataframe[label] = labelencoders[label].fit_transform(dataframe[label])\n",
    "\n",
    "dataframe.head()\n",
    "\n"
   ]
  },
  {
   "cell_type": "markdown",
   "metadata": {},
   "source": [
    "### Feature Scaling"
   ]
  },
  {
   "cell_type": "code",
   "execution_count": 61,
   "metadata": {},
   "outputs": [
    {
     "data": {
      "text/html": [
       "<div>\n",
       "<style scoped>\n",
       "    .dataframe tbody tr th:only-of-type {\n",
       "        vertical-align: middle;\n",
       "    }\n",
       "\n",
       "    .dataframe tbody tr th {\n",
       "        vertical-align: top;\n",
       "    }\n",
       "\n",
       "    .dataframe thead th {\n",
       "        text-align: right;\n",
       "    }\n",
       "</style>\n",
       "<table border=\"1\" class=\"dataframe\">\n",
       "  <thead>\n",
       "    <tr style=\"text-align: right;\">\n",
       "      <th></th>\n",
       "      <th>Game_Title</th>\n",
       "      <th>Genre</th>\n",
       "      <th>Platform</th>\n",
       "      <th>Release_Year</th>\n",
       "      <th>Developer</th>\n",
       "      <th>Revenue_Millions</th>\n",
       "      <th>Players_Millions</th>\n",
       "      <th>Peak_Concurrent_Players</th>\n",
       "      <th>Metacritic_Score</th>\n",
       "      <th>Esports_Popularity</th>\n",
       "      <th>Trending_Status</th>\n",
       "    </tr>\n",
       "  </thead>\n",
       "  <tbody>\n",
       "    <tr>\n",
       "      <th>0</th>\n",
       "      <td>Battle Warriors 3</td>\n",
       "      <td>4</td>\n",
       "      <td>5</td>\n",
       "      <td>2000</td>\n",
       "      <td>7</td>\n",
       "      <td>1.031859</td>\n",
       "      <td>-1.184563</td>\n",
       "      <td>-0.847624</td>\n",
       "      <td>1.414721</td>\n",
       "      <td>0</td>\n",
       "      <td>0</td>\n",
       "    </tr>\n",
       "    <tr>\n",
       "      <th>1</th>\n",
       "      <td>Pixel Odyssey 5</td>\n",
       "      <td>1</td>\n",
       "      <td>0</td>\n",
       "      <td>2013</td>\n",
       "      <td>9</td>\n",
       "      <td>-0.825919</td>\n",
       "      <td>0.999179</td>\n",
       "      <td>0.264731</td>\n",
       "      <td>1.074426</td>\n",
       "      <td>1</td>\n",
       "      <td>2</td>\n",
       "    </tr>\n",
       "    <tr>\n",
       "      <th>2</th>\n",
       "      <td>Fantasy Rivals 2</td>\n",
       "      <td>6</td>\n",
       "      <td>3</td>\n",
       "      <td>2007</td>\n",
       "      <td>7</td>\n",
       "      <td>0.155082</td>\n",
       "      <td>1.037856</td>\n",
       "      <td>1.699650</td>\n",
       "      <td>0.666071</td>\n",
       "      <td>0</td>\n",
       "      <td>1</td>\n",
       "    </tr>\n",
       "    <tr>\n",
       "      <th>3</th>\n",
       "      <td>Pixel Odyssey 1</td>\n",
       "      <td>0</td>\n",
       "      <td>3</td>\n",
       "      <td>2023</td>\n",
       "      <td>4</td>\n",
       "      <td>-1.287385</td>\n",
       "      <td>0.254641</td>\n",
       "      <td>0.445661</td>\n",
       "      <td>0.870248</td>\n",
       "      <td>1</td>\n",
       "      <td>2</td>\n",
       "    </tr>\n",
       "    <tr>\n",
       "      <th>4</th>\n",
       "      <td>Shadow Realms 2</td>\n",
       "      <td>0</td>\n",
       "      <td>2</td>\n",
       "      <td>2016</td>\n",
       "      <td>9</td>\n",
       "      <td>0.485781</td>\n",
       "      <td>-0.671749</td>\n",
       "      <td>-0.607535</td>\n",
       "      <td>0.598012</td>\n",
       "      <td>1</td>\n",
       "      <td>2</td>\n",
       "    </tr>\n",
       "  </tbody>\n",
       "</table>\n",
       "</div>"
      ],
      "text/plain": [
       "          Game_Title  Genre  Platform  Release_Year  Developer  \\\n",
       "0  Battle Warriors 3      4         5          2000          7   \n",
       "1    Pixel Odyssey 5      1         0          2013          9   \n",
       "2   Fantasy Rivals 2      6         3          2007          7   \n",
       "3    Pixel Odyssey 1      0         3          2023          4   \n",
       "4    Shadow Realms 2      0         2          2016          9   \n",
       "\n",
       "   Revenue_Millions  Players_Millions  Peak_Concurrent_Players  \\\n",
       "0          1.031859         -1.184563                -0.847624   \n",
       "1         -0.825919          0.999179                 0.264731   \n",
       "2          0.155082          1.037856                 1.699650   \n",
       "3         -1.287385          0.254641                 0.445661   \n",
       "4          0.485781         -0.671749                -0.607535   \n",
       "\n",
       "   Metacritic_Score  Esports_Popularity  Trending_Status  \n",
       "0          1.414721                   0                0  \n",
       "1          1.074426                   1                2  \n",
       "2          0.666071                   0                1  \n",
       "3          0.870248                   1                2  \n",
       "4          0.598012                   1                2  "
      ]
     },
     "execution_count": 61,
     "metadata": {},
     "output_type": "execute_result"
    }
   ],
   "source": [
    "from sklearn.preprocessing import StandardScaler\n",
    "scaler = StandardScaler()\n",
    "\n",
    "numerical_columns = ['Revenue_Millions', 'Players_Millions', 'Peak_Concurrent_Players', 'Metacritic_Score']\n",
    "dataframe[numerical_columns] = scaler.fit_transform(dataframe[numerical_columns])\n",
    "\n",
    "dataframe.head()"
   ]
  },
  {
   "cell_type": "code",
   "execution_count": 62,
   "metadata": {},
   "outputs": [],
   "source": [
    "from sklearn.model_selection import train_test_split\n",
    "\n",
    "X = dataframe.drop(['Game_Title', 'Revenue_Millions'], axis=1)\n",
    "y = dataframe['Revenue_Millions']\n",
    "\n",
    "X_train, X_test, y_train, y_test = train_test_split(X, y, test_size=0.2, random_state=42)"
   ]
  },
  {
   "cell_type": "code",
   "execution_count": 63,
   "metadata": {},
   "outputs": [
    {
     "name": "stdout",
     "output_type": "stream",
     "text": [
      "0.9871837375186797\n"
     ]
    }
   ],
   "source": [
    "from sklearn.linear_model import LinearRegression\n",
    "from sklearn.metrics import mean_squared_error\n",
    "\n",
    "model = LinearRegression()\n",
    "model.fit(X_train, y_train)\n",
    "\n",
    "y_pred = model.predict(X_test)\n",
    "\n",
    "mean_squared_error(y_test, y_pred)\n",
    "print(mean_squared_error(y_test, y_pred))"
   ]
  },
  {
   "cell_type": "code",
   "execution_count": null,
   "metadata": {},
   "outputs": [],
   "source": []
  }
 ],
 "metadata": {
  "kernelspec": {
   "display_name": "myenv",
   "language": "python",
   "name": "python3"
  },
  "language_info": {
   "codemirror_mode": {
    "name": "ipython",
    "version": 3
   },
   "file_extension": ".py",
   "mimetype": "text/x-python",
   "name": "python",
   "nbconvert_exporter": "python",
   "pygments_lexer": "ipython3",
   "version": "3.12.3"
  }
 },
 "nbformat": 4,
 "nbformat_minor": 2
}
